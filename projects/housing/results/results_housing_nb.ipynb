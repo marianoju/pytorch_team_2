{
 "cells": [
  {
   "cell_type": "code",
   "execution_count": 15,
   "metadata": {},
   "outputs": [],
   "source": [
    "import pandas as pd\n",
    "import matplotlib.pyplot as plt"
   ]
  },
  {
   "cell_type": "code",
   "execution_count": 28,
   "metadata": {},
   "outputs": [],
   "source": [
    "results = pd.read_csv('../../housing/results/results_housing2018-09-13 14:54:08.046894.csv')"
   ]
  },
  {
   "cell_type": "code",
   "execution_count": 29,
   "metadata": {},
   "outputs": [
    {
     "data": {
      "text/html": [
       "<div>\n",
       "<style scoped>\n",
       "    .dataframe tbody tr th:only-of-type {\n",
       "        vertical-align: middle;\n",
       "    }\n",
       "\n",
       "    .dataframe tbody tr th {\n",
       "        vertical-align: top;\n",
       "    }\n",
       "\n",
       "    .dataframe thead th {\n",
       "        text-align: right;\n",
       "    }\n",
       "</style>\n",
       "<table border=\"1\" class=\"dataframe\">\n",
       "  <thead>\n",
       "    <tr style=\"text-align: right;\">\n",
       "      <th></th>\n",
       "      <th>Model</th>\n",
       "      <th>Fit Time</th>\n",
       "      <th>Pediction Time</th>\n",
       "      <th>MSE</th>\n",
       "      <th>RMSE</th>\n",
       "      <th>R2</th>\n",
       "      <th>RMSE of Mean</th>\n",
       "      <th>Calibration</th>\n",
       "    </tr>\n",
       "  </thead>\n",
       "  <tbody>\n",
       "    <tr>\n",
       "      <th>0</th>\n",
       "      <td>DecisionTreeRegressor(criterion='mse', max_dep...</td>\n",
       "      <td>0.032719</td>\n",
       "      <td>0.001013</td>\n",
       "      <td>5.954379e+09</td>\n",
       "      <td>77164.619640</td>\n",
       "      <td>0.557487</td>\n",
       "      <td>0.366778</td>\n",
       "      <td>0.983436</td>\n",
       "    </tr>\n",
       "    <tr>\n",
       "      <th>1</th>\n",
       "      <td>DecisionTreeRegressor(criterion='mse', max_dep...</td>\n",
       "      <td>0.053368</td>\n",
       "      <td>0.000818</td>\n",
       "      <td>5.150938e+09</td>\n",
       "      <td>71770.032695</td>\n",
       "      <td>0.617197</td>\n",
       "      <td>0.341136</td>\n",
       "      <td>0.985552</td>\n",
       "    </tr>\n",
       "    <tr>\n",
       "      <th>2</th>\n",
       "      <td>DecisionTreeRegressor(criterion='mse', max_dep...</td>\n",
       "      <td>0.104758</td>\n",
       "      <td>0.001166</td>\n",
       "      <td>3.931621e+09</td>\n",
       "      <td>62702.643354</td>\n",
       "      <td>0.707813</td>\n",
       "      <td>0.298037</td>\n",
       "      <td>0.992337</td>\n",
       "    </tr>\n",
       "    <tr>\n",
       "      <th>3</th>\n",
       "      <td>DecisionTreeRegressor(criterion='mse', max_dep...</td>\n",
       "      <td>0.032890</td>\n",
       "      <td>0.009644</td>\n",
       "      <td>5.954379e+09</td>\n",
       "      <td>77164.619640</td>\n",
       "      <td>0.557487</td>\n",
       "      <td>0.366778</td>\n",
       "      <td>0.983436</td>\n",
       "    </tr>\n",
       "    <tr>\n",
       "      <th>4</th>\n",
       "      <td>DecisionTreeRegressor(criterion='mse', max_dep...</td>\n",
       "      <td>0.032698</td>\n",
       "      <td>0.022563</td>\n",
       "      <td>5.954379e+09</td>\n",
       "      <td>77164.619640</td>\n",
       "      <td>0.557487</td>\n",
       "      <td>0.366778</td>\n",
       "      <td>0.983436</td>\n",
       "    </tr>\n",
       "    <tr>\n",
       "      <th>5</th>\n",
       "      <td>RandomForestRegressor(bootstrap=True, criterio...</td>\n",
       "      <td>0.935664</td>\n",
       "      <td>0.010567</td>\n",
       "      <td>5.756333e+09</td>\n",
       "      <td>75870.503718</td>\n",
       "      <td>0.572205</td>\n",
       "      <td>0.360626</td>\n",
       "      <td>0.985926</td>\n",
       "    </tr>\n",
       "    <tr>\n",
       "      <th>6</th>\n",
       "      <td>SVR(C=100, cache_size=200, coef0=0.0, degree=3...</td>\n",
       "      <td>16.849265</td>\n",
       "      <td>2.633772</td>\n",
       "      <td>9.042852e+09</td>\n",
       "      <td>95093.910979</td>\n",
       "      <td>0.327961</td>\n",
       "      <td>0.451999</td>\n",
       "      <td>0.859541</td>\n",
       "    </tr>\n",
       "  </tbody>\n",
       "</table>\n",
       "</div>"
      ],
      "text/plain": [
       "                                               Model   Fit Time  \\\n",
       "0  DecisionTreeRegressor(criterion='mse', max_dep...   0.032719   \n",
       "1  DecisionTreeRegressor(criterion='mse', max_dep...   0.053368   \n",
       "2  DecisionTreeRegressor(criterion='mse', max_dep...   0.104758   \n",
       "3  DecisionTreeRegressor(criterion='mse', max_dep...   0.032890   \n",
       "4  DecisionTreeRegressor(criterion='mse', max_dep...   0.032698   \n",
       "5  RandomForestRegressor(bootstrap=True, criterio...   0.935664   \n",
       "6  SVR(C=100, cache_size=200, coef0=0.0, degree=3...  16.849265   \n",
       "\n",
       "   Pediction Time           MSE          RMSE        R2  RMSE of Mean  \\\n",
       "0        0.001013  5.954379e+09  77164.619640  0.557487      0.366778   \n",
       "1        0.000818  5.150938e+09  71770.032695  0.617197      0.341136   \n",
       "2        0.001166  3.931621e+09  62702.643354  0.707813      0.298037   \n",
       "3        0.009644  5.954379e+09  77164.619640  0.557487      0.366778   \n",
       "4        0.022563  5.954379e+09  77164.619640  0.557487      0.366778   \n",
       "5        0.010567  5.756333e+09  75870.503718  0.572205      0.360626   \n",
       "6        2.633772  9.042852e+09  95093.910979  0.327961      0.451999   \n",
       "\n",
       "   Calibration  \n",
       "0     0.983436  \n",
       "1     0.985552  \n",
       "2     0.992337  \n",
       "3     0.983436  \n",
       "4     0.983436  \n",
       "5     0.985926  \n",
       "6     0.859541  "
      ]
     },
     "execution_count": 29,
     "metadata": {},
     "output_type": "execute_result"
    }
   ],
   "source": [
    "results"
   ]
  },
  {
   "cell_type": "code",
   "execution_count": 18,
   "metadata": {},
   "outputs": [
    {
     "data": {
      "text/plain": [
       "[<matplotlib.lines.Line2D at 0x111142ef0>]"
      ]
     },
     "execution_count": 18,
     "metadata": {},
     "output_type": "execute_result"
    },
    {
     "data": {
      "image/png": "[encoded data removed]",
      "text/plain": [
       "<Figure size 432x288 with 1 Axes>"
      ]
     },
     "metadata": {},
     "output_type": "display_data"
    }
   ],
   "source": [
    "y= results.loc[:,'RMSE']\n",
    "y\n",
    "plt.plot(y)"
   ]
  },
  {
   "cell_type": "code",
   "execution_count": null,
   "metadata": {},
   "outputs": [],
   "source": []
  }
 ],
 "metadata": {
  "kernelspec": {
   "display_name": "Python 3",
   "language": "python",
   "name": "python3"
  },
  "language_info": {
   "codemirror_mode": {
    "name": "ipython",
    "version": 3
   },
   "file_extension": ".py",
   "mimetype": "text/x-python",
   "name": "python",
   "nbconvert_exporter": "python",
   "pygments_lexer": "ipython3",
   "version": "3.6.5"
  }
 },
 "nbformat": 4,
 "nbformat_minor": 2
}
